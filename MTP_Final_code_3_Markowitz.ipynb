{
  "nbformat": 4,
  "nbformat_minor": 0,
  "metadata": {
    "colab": {
      "name": "MTP Final code 3 - Markowitz.ipynb",
      "provenance": [],
      "collapsed_sections": []
    },
    "kernelspec": {
      "name": "python3",
      "display_name": "Python 3"
    },
    "language_info": {
      "name": "python"
    }
  },
  "cells": [
    {
      "cell_type": "markdown",
      "source": [
        "# Markowitz"
      ],
      "metadata": {
        "id": "bmkh9ptas0-K"
      }
    },
    {
      "cell_type": "code",
      "source": [
        "import numpy as np\n",
        "import pandas as pd\n",
        "import cvxopt\n",
        "import os\n",
        "import json\n",
        "import cvxopt as opt\n",
        "from cvxopt import blas, solvers\n",
        "from cvxopt import matrix\n",
        "import matplotlib.pyplot as plt\n",
        "from sklearn.model_selection import train_test_split"
      ],
      "metadata": {
        "id": "SMmZGqyMs0dC"
      },
      "execution_count": null,
      "outputs": []
    },
    {
      "cell_type": "code",
      "source": [
        "# Hyperparameters #\n",
        "base_folder='/content/drive/MyDrive/SEM 10/MTP Final/MTP 2/Outputs/LSTM_StockPicking_window_5'\n",
        "target_return=0.2\n",
        "out_folder='summary/lstm'\n",
        "!gdown --id 1dkIQbawpE7BKnxGh_OTKI1qVHWCuhCXh # mtp_data.csv"
      ],
      "metadata": {
        "colab": {
          "base_uri": "https://localhost:8080/"
        },
        "id": "QMdOUi83tpsk",
        "outputId": "f6f50d3a-29ea-4b14-d016-5a0067a88be0"
      },
      "execution_count": null,
      "outputs": [
        {
          "output_type": "stream",
          "name": "stdout",
          "text": [
            "/usr/local/lib/python3.7/dist-packages/gdown/cli.py:131: FutureWarning: Option `--id` was deprecated in version 4.3.1 and will be removed in 5.0. You don't need to pass it anymore to use a file ID.\n",
            "  category=FutureWarning,\n",
            "Downloading...\n",
            "From: https://drive.google.com/uc?id=1dkIQbawpE7BKnxGh_OTKI1qVHWCuhCXh\n",
            "To: /content/mtp_data.csv\n",
            "100% 851k/851k [00:00<00:00, 103MB/s]\n"
          ]
        }
      ]
    },
    {
      "cell_type": "code",
      "source": [
        "def arr_to_ret(X):\n",
        "\tR = np.copy(X)\n",
        "\tfor i in range(1, R.shape[0]):\n",
        "\t\tR[i] = (X[i] - X[i-1])/X[i-1]\n",
        "\n",
        "\tR = R[1:, :]\n",
        "\treturn R\n",
        "\n",
        "def markowitz_no_constraint(X):\n",
        "    R = np.copy(X)\n",
        "    for i in range(1, R.shape[0]):\n",
        "        R[i] = (X[i] - X[i-1])/X[i-1]\n",
        "\n",
        "    R = R[1:, :]\n",
        "\n",
        "    # Solve optimiation problem #\n",
        "    R_m = R - np.mean(R, axis=0)\n",
        "    omega = np.dot(R_m.T, R_m)/(np.shape(R_m)[0])\n",
        "\n",
        "    # No target return constraint #\n",
        "    nAssets = omega.shape[0]\n",
        "    e = np.ones((nAssets, 1))\n",
        "    u = np.dot(np.linalg.inv(omega), e)\n",
        "    w_opt = u/(np.dot(e.T, u))\n",
        "    assert np.allclose(np.sum(w_opt), 1.0), \"w_opt not summing to 1.0\"\n",
        "    mu = np.mean(R, axis=0).reshape(-1, 1)\n",
        "    \n",
        "    portfolio_return = np.sum(np.dot(mu.T, w_opt))\n",
        "    portfolio_risk = np.dot(w_opt.T, np.dot(omega, w_opt))[0][0]\n",
        "    sharpe_ratio=portfolio_return/portfolio_risk\n",
        "    \n",
        "    return portfolio_return, portfolio_risk, sharpe_ratio, w_opt\n",
        "\n",
        "def markowitz_target_return(X, target_return):\n",
        "    R = np.copy(X)\n",
        "    for i in range(1, R.shape[0]):\n",
        "        R[i] = (X[i] - X[i-1])/X[i-1]\n",
        "\n",
        "    R = R[1:, :]\n",
        "\n",
        "    # Solve optimiation problem #\n",
        "    R_m = R - np.mean(R, axis=0)\n",
        "    omega = np.dot(R_m.T, R_m)/(np.shape(R_m)[0])\n",
        "    \n",
        "    \"\"\"\n",
        "    1/2 x'Px + q'x\n",
        "    subject to :\n",
        "    Gx <= h\n",
        "    Ax = b\n",
        "\n",
        "    sol = solvers.qp(P,q,G,h,A,b)\n",
        "    \"\"\"\n",
        "    nAssets = omega.shape[0]\n",
        "    e = np.ones(nAssets).reshape(1, -1)\n",
        "    mu = np.mean(R, axis=0).reshape(1, -1)\n",
        "\n",
        "    P = matrix(2.0 * omega, tc='d') # tc='d' for double matrices\n",
        "    q = matrix(np.zeros(nAssets))\n",
        "    G = matrix(np.zeros((nAssets, nAssets)), tc='d')\n",
        "    h = matrix(np.zeros(nAssets), tc='d')\n",
        "    A = matrix(np.vstack([e, mu]), tc='d')\n",
        "    b = matrix([1.0, target_return])\n",
        "\n",
        "    sol = solvers.qp(P,q,G,h,A,b)\n",
        "\n",
        "    w_opt = np.array(sol['x'])\n",
        "\n",
        "    assert np.allclose(np.sum(w_opt), 1.0), \"w_opt not summing to 1.0\"\n",
        "    assert np.allclose(np.dot(mu, w_opt), target_return), \"mu'w not 0.2\"\n",
        "    \n",
        "    portfolio_return = np.sum(np.dot(mu, w_opt))\n",
        "    portfolio_risk = np.dot(w_opt.T, np.dot(omega, w_opt))[0][0]\n",
        "    sharpe_ratio=portfolio_return/portfolio_risk\n",
        "    \n",
        "    return portfolio_return, portfolio_risk, sharpe_ratio, w_opt"
      ],
      "metadata": {
        "id": "Nu2DEQmUtrsA"
      },
      "execution_count": null,
      "outputs": []
    },
    {
      "cell_type": "code",
      "source": [
        "if not os.path.exists(out_folder):\n",
        "\tos.makedirs(out_folder)"
      ],
      "metadata": {
        "id": "8VZsN_lMtxQ2"
      },
      "execution_count": null,
      "outputs": []
    },
    {
      "cell_type": "code",
      "source": [
        "returns_p=[]\n",
        "risks_p=[]\n",
        "srs_p=[]\n",
        "returns_actual=[]\n",
        "risks_actual=[]\n",
        "srs_actual=[]\n",
        "\n",
        "weights_all_preds=[]\n",
        "weights_all_true=[]\n",
        "\n",
        "folder_names = [2, 4, 6, 8, 10]\n",
        "\n",
        "for folder_name in folder_names:\n",
        "\tfolder=os.path.join(base_folder, str(folder_name))\n",
        "\n",
        "\twith open(os.path.join(folder, 'commandline_args.txt')) as file:\n",
        "\t\td=json.loads(file.read())\n",
        "\tidxs=np.load(os.path.join(folder, 'top_idxs.npy'))\n",
        "\tnum_stocks=d['num_stocks']\n",
        "\tidxs=idxs[:num_stocks]\n",
        "\n",
        "\tpreds=np.load(os.path.join(folder, 'preds_array.npy'))\n",
        "\tdata=np.array(pd.read_csv('mtp_data.csv', index_col=0).iloc[:, :])\n",
        "\tassert preds.shape==data.shape\n",
        "\tpreds=preds[:, idxs]\n",
        "\tdata=data[:, idxs]\n",
        "\n",
        "\t# Test data average return compuation #\n",
        "\tdata, test_data = train_test_split(data, test_size=d['test_size'], shuffle=False)\n",
        "\ttest_mu=np.mean(arr_to_ret(test_data), axis=0).reshape(1, num_stocks)\n",
        "\n",
        "\t_, risk, _, w_opt = markowitz_no_constraint(preds)\n",
        "\tret=np.dot(test_mu, w_opt)[0][0]\n",
        "\tsr=ret/risk\n",
        "\trisks_p.append(risk)\n",
        "\treturns_p.append(ret)\n",
        "\tsrs_p.append(sr)\n",
        "\tweights_all_preds.append(list(w_opt.T)[0])\n",
        "\t\n",
        "\tprint(data.shape)\n",
        "\t_, risk, _, w_opt = markowitz_no_constraint(data)\n",
        "\tret=np.dot(test_mu, w_opt)[0][0]\n",
        "\tsr=ret/risk\n",
        "\trisks_actual.append(risk)\n",
        "\treturns_actual.append(ret)\n",
        "\tsrs_actual.append(sr)\n",
        "\tweights_all_true.append(list(w_opt.T)[0])\n",
        "\n",
        "plt.figure()\n",
        "plt.plot(folder_names, returns_p, label='rets_predicted', color='orange')\n",
        "plt.plot(folder_names, returns_actual, label='rets_actual', color='blue')\n",
        "plt.xticks(folder_names)\n",
        "plt.legend(loc =\"lower right\")\n",
        "plt.title('LSTM Returns')\n",
        "plt.savefig(os.path.join(out_folder, 'returns.png'))\n",
        "\n",
        "plt.figure()\n",
        "plt.plot(folder_names, risks_p, label = 'risks_predicted', color='orange')\n",
        "plt.plot(folder_names, risks_actual, label = 'risks_actual', color='blue')\n",
        "plt.xticks(folder_names)\n",
        "plt.legend(loc =\"lower right\")\n",
        "plt.title('LSTM Risks')\n",
        "plt.savefig(os.path.join(out_folder, 'risks.png'))\n",
        "\n",
        "plt.figure()\n",
        "plt.plot(folder_names, srs_p, label = 'SR_predicted', color='orange')\n",
        "plt.plot(folder_names, srs_actual, label = 'SR_actual', color='blue')\n",
        "plt.xticks(folder_names)\n",
        "plt.legend(loc =\"lower right\")\n",
        "plt.title('LSTM Sharpe Ratio')\n",
        "plt.savefig(os.path.join(out_folder, 'sr.png'))\n",
        "\n",
        "np.savetxt(out_folder + '/returns_p.txt', returns_p, fmt='%10.5f')\n",
        "np.savetxt(out_folder + '/returns_actual.txt', returns_actual, fmt='%10.5f')\n",
        "np.savetxt(out_folder + '/risks_p.txt', risks_p, fmt='%10.5f')\n",
        "np.savetxt(out_folder + '/risks_actual.txt', risks_actual, fmt='%10.5f')\n",
        "np.savetxt(out_folder + '/srs_p.txt', srs_p, fmt='%10.5f')\n",
        "np.savetxt(out_folder + '/srs_actual.txt', srs_actual, fmt='%10.5f')\n",
        "np.savetxt(out_folder + '/weights_all_preds.txt', weights_all_preds, fmt='%10.5f')\n",
        "np.savetxt(out_folder + '/weights_all_true.txt', weights_all_true, fmt='%10.5f')\n",
        "\n",
        "# with open(os.path.join(out_folder, 'results.txt'), 'w') as f:\n",
        "#   f.write('Predicted Returns for test sizes from 2 to 10: ' + str(returns_p))\n",
        "#   f.write('\\n Actual Returns for test sizes from 2 to 10: ' + str(returns_actual))\n",
        "#   f.write('\\n Predicted Variance for test sizes from 2 to 10: ' + str(risks_p))\n",
        "#   f.write('\\n Actual Variance for test sizes from 2 to 10: ' + str(risks_actual))\n",
        "#   f.write('\\n Predicted Sharpe Ratio for test sizes from 2 to 10: ' + str(srs_p))\n",
        "#   f.write('\\n Actual Sharpe Ratio for test sizes from 2 to 10: ' + str(srs_actual))\n",
        "# \t# f.write('\\n Weights Predicted for test sizes from 1 to 10: ' + srt(weights_all_preds))\n",
        "# \t# f.write('\\n Weights Actual for test sizes from 1 to 10: ' + srt(weights_all_true))"
      ],
      "metadata": {
        "id": "rjK4KW6ItyI3"
      },
      "execution_count": null,
      "outputs": []
    },
    {
      "cell_type": "code",
      "source": [
        ""
      ],
      "metadata": {
        "id": "gbR3A8ZWPK_m"
      },
      "execution_count": null,
      "outputs": []
    },
    {
      "cell_type": "code",
      "source": [
        "# Downloading outputs\n",
        "!zip -r /content/markowitz_output.zip /content/summary"
      ],
      "metadata": {
        "id": "_UAOUm6-N2Fp"
      },
      "execution_count": null,
      "outputs": []
    },
    {
      "cell_type": "code",
      "source": [
        ""
      ],
      "metadata": {
        "id": "UVq6euv7QonT"
      },
      "execution_count": null,
      "outputs": []
    }
  ]
}